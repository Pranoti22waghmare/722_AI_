{
 "cells": [
  {
   "cell_type": "code",
   "execution_count": 1,
   "id": "d33f7f65",
   "metadata": {},
   "outputs": [],
   "source": [
    "import numpy as np"
   ]
  },
  {
   "cell_type": "markdown",
   "id": "49576fe5",
   "metadata": {},
   "source": [
    "# R matrix"
   ]
  },
  {
   "cell_type": "code",
   "execution_count": 3,
   "id": "04541c9a",
   "metadata": {},
   "outputs": [],
   "source": [
    "R=np.matrix([[-1,-1,-1,-1,0,-1],\n",
    "            [-1,-1,-1,0,-1,100],\n",
    "            [-1,-1,-1,0,-1,-1],\n",
    "            [-1,0,0,-1,0,-1],\n",
    "            [-1,0,0,-1,-1,100],\n",
    "            [-1,0,-1,-1,0,100]])"
   ]
  },
  {
   "cell_type": "markdown",
   "id": "f5f58ffb",
   "metadata": {},
   "source": [
    "# Q matrix"
   ]
  },
  {
   "cell_type": "code",
   "execution_count": 6,
   "id": "6aa3f103",
   "metadata": {},
   "outputs": [],
   "source": [
    "Q=np.matrix(np.zeros([6,6]))"
   ]
  },
  {
   "cell_type": "markdown",
   "id": "205be8ea",
   "metadata": {},
   "source": [
    "# Gamma Learning Parameter"
   ]
  },
  {
   "cell_type": "code",
   "execution_count": 7,
   "id": "700710ec",
   "metadata": {},
   "outputs": [],
   "source": [
    "gamma = 0.8"
   ]
  },
  {
   "cell_type": "markdown",
   "id": "794ab73a",
   "metadata": {},
   "source": [
    "# Initial state usually to be chosen at random."
   ]
  },
  {
   "cell_type": "code",
   "execution_count": 9,
   "id": "d4d2c967",
   "metadata": {},
   "outputs": [],
   "source": [
    "initial_state = 1"
   ]
  },
  {
   "cell_type": "markdown",
   "id": "32adaa74",
   "metadata": {},
   "source": [
    "# This function returns all available actions in the state given as on argument."
   ]
  },
  {
   "cell_type": "code",
   "execution_count": 11,
   "id": "155d2a31",
   "metadata": {},
   "outputs": [],
   "source": [
    "def available_actions(state):\n",
    "    current_state_row=R[state,]\n",
    "    av_act=np.where(current_state_row>=0)[1]\n",
    "    return av_act"
   ]
  },
  {
   "cell_type": "markdown",
   "id": "3e2f255e",
   "metadata": {},
   "source": [
    "# Get available actions in the current state."
   ]
  },
  {
   "cell_type": "code",
   "execution_count": 12,
   "id": "f57e26a4",
   "metadata": {},
   "outputs": [],
   "source": [
    "available_act=available_actions(initial_state)"
   ]
  },
  {
   "cell_type": "markdown",
   "id": "b009bd48",
   "metadata": {},
   "source": [
    "# This function choosen at random which action to be performed    within the range of all the available actions."
   ]
  },
  {
   "cell_type": "code",
   "execution_count": 14,
   "id": "8cf55c3a",
   "metadata": {},
   "outputs": [],
   "source": [
    "def simple_next_action(available_actions_range):\n",
    "    next_action=int(np.random.choice(available_act,1))\n",
    "    return next_action"
   ]
  },
  {
   "cell_type": "markdown",
   "id": "90f03e46",
   "metadata": {},
   "source": [
    "# Sample next action to be performed."
   ]
  },
  {
   "cell_type": "code",
   "execution_count": 15,
   "id": "b5f69edd",
   "metadata": {},
   "outputs": [],
   "source": [
    " action=simple_next_action(available_act)"
   ]
  },
  {
   "cell_type": "markdown",
   "id": "02646fff",
   "metadata": {},
   "source": [
    "# This function update the Q matrix according to the path selected and the Q learning algorithm."
   ]
  },
  {
   "cell_type": "code",
   "execution_count": 21,
   "id": "54375544",
   "metadata": {},
   "outputs": [],
   "source": [
    "def update(current_state,action,gamma):\n",
    "    max_index=np.where(Q[action,]==np.max(Q[action,]))[1]\n",
    "    \n",
    "    if max_index.shape[0]>1:\n",
    "        max_index=int(np.random.choice(max_index,size=1))\n",
    "    else:\n",
    "        max_index=int(max_index)\n",
    "    max_value=Q[action,max_index]\n",
    "        \n",
    "     #Q learning formula\n",
    "    Q[current_state,action]=R[current_state,action] + gamma * max_value"
   ]
  },
  {
   "cell_type": "markdown",
   "id": "b42d8ce1",
   "metadata": {},
   "source": [
    "# Update Q matrix"
   ]
  },
  {
   "cell_type": "code",
   "execution_count": 22,
   "id": "46eeea49",
   "metadata": {},
   "outputs": [],
   "source": [
    "update(initial_state,action,gamma)"
   ]
  },
  {
   "cell_type": "markdown",
   "id": "2b838a00",
   "metadata": {},
   "source": [
    "# Training\n",
    "\n",
    "Train over 10000 iterations. Re-iterate the process above."
   ]
  },
  {
   "cell_type": "code",
   "execution_count": 23,
   "id": "f80bd26b",
   "metadata": {},
   "outputs": [],
   "source": [
    "for i in range(10000):\n",
    "    current_state=np.random.randint(0,int(Q.shape[0]))\n",
    "    available_act=available_actions(current_state)\n",
    "    action=simple_next_action(available_act)\n",
    "    update(current_state,action,gamma)"
   ]
  },
  {
   "cell_type": "markdown",
   "id": "54b47ce8",
   "metadata": {},
   "source": [
    "# Normalize the trained Q matrix"
   ]
  },
  {
   "cell_type": "code",
   "execution_count": 24,
   "id": "b7c4702f",
   "metadata": {},
   "outputs": [
    {
     "name": "stdout",
     "output_type": "stream",
     "text": [
      "Trained Q matrix\n",
      "[[  0.    0.    0.    0.   80.    0. ]\n",
      " [  0.    0.    0.   64.    0.  100. ]\n",
      " [  0.    0.    0.   64.    0.    0. ]\n",
      " [  0.   80.   51.2   0.   80.    0. ]\n",
      " [  0.   80.   51.2   0.    0.  100. ]\n",
      " [  0.   80.    0.    0.   80.  100. ]]\n"
     ]
    }
   ],
   "source": [
    "print(\"Trained Q matrix\")\n",
    "print(Q/np.max(Q) *100)"
   ]
  },
  {
   "cell_type": "markdown",
   "id": "b0a028cf",
   "metadata": {},
   "source": [
    "# Testing\n",
    "\n",
    "Goal state = 5 Best sequence path starting from 2->2,3,1,5"
   ]
  },
  {
   "cell_type": "code",
   "execution_count": 26,
   "id": "a9fdcd1f",
   "metadata": {},
   "outputs": [
    {
     "name": "stdout",
     "output_type": "stream",
     "text": [
      "Selected patjh:\n",
      "[1, 5]\n"
     ]
    }
   ],
   "source": [
    "current_state=1 #check for current_state=2\n",
    "steps=[current_state]\n",
    "\n",
    "while current_state!=5:\n",
    "    next_step_index=np.where(Q[current_state,]==np.max(Q[current_state,]))[1]\n",
    "    \n",
    "    if next_step_index.shape[0]>1:\n",
    "        next_step_index=int(np.random.choice(next_step_index,size=1))\n",
    "        \n",
    "    else:\n",
    "        next_step_index=int(next_step_index)\n",
    "    \n",
    "    steps.append(next_step_index)\n",
    "    current_state=next_step_index\n",
    "    \n",
    "    #print selected sequence of steps\n",
    "print(\"Selected patjh:\")\n",
    "print(steps)"
   ]
  },
  {
   "cell_type": "code",
   "execution_count": null,
   "id": "43d7cd34",
   "metadata": {},
   "outputs": [],
   "source": []
  }
 ],
 "metadata": {
  "kernelspec": {
   "display_name": "Python 3 (ipykernel)",
   "language": "python",
   "name": "python3"
  },
  "language_info": {
   "codemirror_mode": {
    "name": "ipython",
    "version": 3
   },
   "file_extension": ".py",
   "mimetype": "text/x-python",
   "name": "python",
   "nbconvert_exporter": "python",
   "pygments_lexer": "ipython3",
   "version": "3.9.7"
  }
 },
 "nbformat": 4,
 "nbformat_minor": 5
}
